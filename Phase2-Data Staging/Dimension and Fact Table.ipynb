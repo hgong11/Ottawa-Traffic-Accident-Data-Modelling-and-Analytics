{
 "cells": [
  {
   "cell_type": "markdown",
   "metadata": {},
   "source": [
    "# Dimension Tables And Fact Table\n",
    "This notebook is to dimensionalize the master table and get the dimensions and fact table "
   ]
  },
  {
   "cell_type": "code",
   "execution_count": 1,
   "metadata": {},
   "outputs": [],
   "source": [
    "## Import compulsory libraries\n",
    "import numpy as np\n",
    "import pandas as pd"
   ]
  },
  {
   "cell_type": "code",
   "execution_count": 2,
   "metadata": {
    "scrolled": true
   },
   "outputs": [
    {
     "name": "stderr",
     "output_type": "stream",
     "text": [
      "C:\\Users\\gongh\\Anaconda3\\lib\\site-packages\\IPython\\core\\interactiveshell.py:3063: DtypeWarning: Columns (0) have mixed types.Specify dtype option on import or set low_memory=False.\n",
      "  interactivity=interactivity, compiler=compiler, result=result)\n"
     ]
    }
   ],
   "source": [
    "## read master spreadsheet.\n",
    "root_dir='C:/Users/project file/master_data.csv'\n",
    "master = pd.read_csv(root_dir)"
   ]
  },
  {
   "cell_type": "markdown",
   "metadata": {},
   "source": [
    "## Dimension Table\n",
    "We have 5 dimensions table: accident, weather, location, event, hour"
   ]
  },
  {
   "cell_type": "markdown",
   "metadata": {},
   "source": [
    "## Accident Dimension"
   ]
  },
  {
   "cell_type": "code",
   "execution_count": 3,
   "metadata": {},
   "outputs": [
    {
     "data": {
      "text/plain": [
       "Index(['COLLISION_ID', 'LOCATION', 'LONGITUDE', 'LATITUDE', 'DATE', 'TIME',\n",
       "       'ENVIRONMENT', 'LIGHT', 'SURFACE_CONDITION', 'TRAFFIC_CONTROL',\n",
       "       'COLLISION_CLASSIFICATION', 'IMPACT_TYPE', 'Neighbourhoods',\n",
       "       'Weather_station', 'YEAR', 'MONTH', 'DAY', 'ROUNDED_TIME',\n",
       "       'X.Date.Time', 'Temp...C.', 'Temp.Flag', 'Dew.Point.Temp...C.',\n",
       "       'Dew.Point.Temp.Flag', 'Rel.Hum....', 'Rel.Hum.Flag',\n",
       "       'Wind.Dir..10s.deg.', 'Wind.Dir.Flag', 'Wind.Spd..km.h.',\n",
       "       'Wind.Spd.Flag', 'Visibility..km.', 'Visibility.Flag',\n",
       "       'Stn.Press..kPa.', 'Stn.Press.Flag', 'Hmdx', 'Hmdx.Flag', 'Wind.Chill',\n",
       "       'Wind.Chill.Flag', 'Weather.', 'X.Province.', 'WEATHER_ID'],\n",
       "      dtype='object')"
      ]
     },
     "execution_count": 3,
     "metadata": {},
     "output_type": "execute_result"
    }
   ],
   "source": [
    "master.columns"
   ]
  },
  {
   "cell_type": "code",
   "execution_count": 26,
   "metadata": {},
   "outputs": [
    {
     "data": {
      "text/html": [
       "<div>\n",
       "<style scoped>\n",
       "    .dataframe tbody tr th:only-of-type {\n",
       "        vertical-align: middle;\n",
       "    }\n",
       "\n",
       "    .dataframe tbody tr th {\n",
       "        vertical-align: top;\n",
       "    }\n",
       "\n",
       "    .dataframe thead th {\n",
       "        text-align: right;\n",
       "    }\n",
       "</style>\n",
       "<table border=\"1\" class=\"dataframe\">\n",
       "  <thead>\n",
       "    <tr style=\"text-align: right;\">\n",
       "      <th></th>\n",
       "      <th>ACCIDENT_KEY</th>\n",
       "      <th>ACCIDENT_DATE</th>\n",
       "      <th>ACCIDENT_TIME</th>\n",
       "      <th>ENVIRONMENT</th>\n",
       "      <th>LIGHT</th>\n",
       "      <th>SURFACE_CONDITION</th>\n",
       "      <th>TRAFFIC_CONTROL</th>\n",
       "      <th>IMPACT_TYPE</th>\n",
       "    </tr>\n",
       "  </thead>\n",
       "  <tbody>\n",
       "    <tr>\n",
       "      <th>0</th>\n",
       "      <td>1</td>\n",
       "      <td>2014-01-01</td>\n",
       "      <td>00:42</td>\n",
       "      <td>03 - Snow</td>\n",
       "      <td>07 - Dark</td>\n",
       "      <td>02 - Wet</td>\n",
       "      <td>01 - Traffic signal</td>\n",
       "      <td>05 - Turning movement</td>\n",
       "    </tr>\n",
       "    <tr>\n",
       "      <th>1</th>\n",
       "      <td>2</td>\n",
       "      <td>2014-01-01</td>\n",
       "      <td>01:04</td>\n",
       "      <td>01 - Clear</td>\n",
       "      <td>07 - Dark</td>\n",
       "      <td>02 - Wet</td>\n",
       "      <td>01 - Traffic signal</td>\n",
       "      <td>02 - Angle</td>\n",
       "    </tr>\n",
       "    <tr>\n",
       "      <th>2</th>\n",
       "      <td>3</td>\n",
       "      <td>2014-01-01</td>\n",
       "      <td>01:52</td>\n",
       "      <td>01 - Clear</td>\n",
       "      <td>07 - Dark</td>\n",
       "      <td>01 - Dry</td>\n",
       "      <td>10 - No control</td>\n",
       "      <td>06 - SMV unattended vehicle</td>\n",
       "    </tr>\n",
       "    <tr>\n",
       "      <th>3</th>\n",
       "      <td>4</td>\n",
       "      <td>2014-01-01</td>\n",
       "      <td>02:05</td>\n",
       "      <td>01 - Clear</td>\n",
       "      <td>07 - Dark</td>\n",
       "      <td>06 - Ice</td>\n",
       "      <td>10 - No control</td>\n",
       "      <td>06 - SMV unattended vehicle</td>\n",
       "    </tr>\n",
       "    <tr>\n",
       "      <th>4</th>\n",
       "      <td>5</td>\n",
       "      <td>2014-01-01</td>\n",
       "      <td>02:20</td>\n",
       "      <td>01 - Clear</td>\n",
       "      <td>07 - Dark</td>\n",
       "      <td>01 - Dry</td>\n",
       "      <td>10 - No control</td>\n",
       "      <td>02 - Angle</td>\n",
       "    </tr>\n",
       "  </tbody>\n",
       "</table>\n",
       "</div>"
      ],
      "text/plain": [
       "   ACCIDENT_KEY ACCIDENT_DATE ACCIDENT_TIME ENVIRONMENT      LIGHT  \\\n",
       "0             1    2014-01-01         00:42   03 - Snow  07 - Dark   \n",
       "1             2    2014-01-01         01:04  01 - Clear  07 - Dark   \n",
       "2             3    2014-01-01         01:52  01 - Clear  07 - Dark   \n",
       "3             4    2014-01-01         02:05  01 - Clear  07 - Dark   \n",
       "4             5    2014-01-01         02:20  01 - Clear  07 - Dark   \n",
       "\n",
       "  SURFACE_CONDITION      TRAFFIC_CONTROL                  IMPACT_TYPE  \n",
       "0          02 - Wet  01 - Traffic signal        05 - Turning movement  \n",
       "1          02 - Wet  01 - Traffic signal                   02 - Angle  \n",
       "2          01 - Dry      10 - No control  06 - SMV unattended vehicle  \n",
       "3          06 - Ice      10 - No control  06 - SMV unattended vehicle  \n",
       "4          01 - Dry      10 - No control                   02 - Angle  "
      ]
     },
     "execution_count": 26,
     "metadata": {},
     "output_type": "execute_result"
    }
   ],
   "source": [
    "#Accident Dim\n",
    "Accident_dim = master[['COLLISION_ID','DATE','TIME','ENVIRONMENT', 'LIGHT', 'SURFACE_CONDITION', 'TRAFFIC_CONTROL', 'IMPACT_TYPE']].copy()\n",
    "Accident_key= np.array([i+1 for i in range(len(Accident_dim.COLLISION_ID))])\n",
    "Accident_dim['ACCIDENT_KEY']=Accident_key\n",
    "Accident_dim = Accident_dim[['ACCIDENT_KEY','DATE','TIME','ENVIRONMENT', 'LIGHT', 'SURFACE_CONDITION', 'TRAFFIC_CONTROL', 'IMPACT_TYPE']]\n",
    "Accident_dim=Accident_dim.rename(columns={'DATE':'ACCIDENT_DATE','TIME':'ACCIDENT_TIME'})\n",
    "Accident_dim.to_csv('C:/Users/project file/accident_dim.csv')\n",
    "Accident_dim.head()"
   ]
  },
  {
   "cell_type": "markdown",
   "metadata": {},
   "source": [
    "## Location Dimension"
   ]
  },
  {
   "cell_type": "code",
   "execution_count": 24,
   "metadata": {},
   "outputs": [
    {
     "data": {
      "text/plain": [
       "Index(['COLLISION_ID', 'LOCATION', 'LONGITUDE', 'LATITUDE', 'DATE', 'TIME',\n",
       "       'ENVIRONMENT', 'LIGHT', 'SURFACE_CONDITION', 'TRAFFIC_CONTROL',\n",
       "       'COLLISION_CLASSIFICATION', 'IMPACT_TYPE', 'Neighbourhoods',\n",
       "       'Weather_station', 'YEAR', 'MONTH', 'DAY', 'ROUNDED_TIME',\n",
       "       'X.Date.Time', 'Temp...C.', 'Temp.Flag', 'Dew.Point.Temp...C.',\n",
       "       'Dew.Point.Temp.Flag', 'Rel.Hum....', 'Rel.Hum.Flag',\n",
       "       'Wind.Dir..10s.deg.', 'Wind.Dir.Flag', 'Wind.Spd..km.h.',\n",
       "       'Wind.Spd.Flag', 'Visibility..km.', 'Visibility.Flag',\n",
       "       'Stn.Press..kPa.', 'Stn.Press.Flag', 'Hmdx', 'Hmdx.Flag', 'Wind.Chill',\n",
       "       'Wind.Chill.Flag', 'Weather.', 'X.Province.', 'WEATHER_ID'],\n",
       "      dtype='object')"
      ]
     },
     "execution_count": 24,
     "metadata": {},
     "output_type": "execute_result"
    }
   ],
   "source": [
    "master.columns"
   ]
  },
  {
   "cell_type": "code",
   "execution_count": 83,
   "metadata": {},
   "outputs": [],
   "source": [
    "location_dim = master[['LOCATION', 'LONGITUDE', 'LATITUDE','Neighbourhoods']].copy()\n",
    "location_dim = location_dim.groupby(['LOCATION','Neighbourhoods']).agg({'LONGITUDE':'mean',\"LATITUDE\":'mean'}).reset_index()\n",
    "location_dim['CITY']='Ottawa'\n",
    "location_dim['PROVINCE']='ON'\n",
    "location_dim['LOCATION_KEY']=np.array([i+1 for i in range(len(location_dim.index))])\n",
    "location_dim = location_dim.rename(columns={'Neighbourhoods':'NEIGHBOURHOODS'})\n",
    "location_dim=location_dim[['LOCATION_KEY','LOCATION','LONGITUDE','LATITUDE','NEIGHBOURHOODS','CITY','PROVINCE']]"
   ]
  },
  {
   "cell_type": "code",
   "execution_count": 84,
   "metadata": {},
   "outputs": [
    {
     "data": {
      "text/html": [
       "<div>\n",
       "<style scoped>\n",
       "    .dataframe tbody tr th:only-of-type {\n",
       "        vertical-align: middle;\n",
       "    }\n",
       "\n",
       "    .dataframe tbody tr th {\n",
       "        vertical-align: top;\n",
       "    }\n",
       "\n",
       "    .dataframe thead th {\n",
       "        text-align: right;\n",
       "    }\n",
       "</style>\n",
       "<table border=\"1\" class=\"dataframe\">\n",
       "  <thead>\n",
       "    <tr style=\"text-align: right;\">\n",
       "      <th></th>\n",
       "      <th>LOCATION_KEY</th>\n",
       "      <th>LOCATION</th>\n",
       "      <th>LONGITUDE</th>\n",
       "      <th>LATITUDE</th>\n",
       "      <th>NEIGHBOURHOODS</th>\n",
       "      <th>CITY</th>\n",
       "      <th>PROVINCE</th>\n",
       "    </tr>\n",
       "  </thead>\n",
       "  <tbody>\n",
       "    <tr>\n",
       "      <th>0</th>\n",
       "      <td>1</td>\n",
       "      <td>105 S OF COMMISSIONER ST @ ALBERT ST</td>\n",
       "      <td>-75.709554</td>\n",
       "      <td>45.415115</td>\n",
       "      <td>Ottawa West Centre Town</td>\n",
       "      <td>Ottawa</td>\n",
       "      <td>ON</td>\n",
       "    </tr>\n",
       "    <tr>\n",
       "      <th>1</th>\n",
       "      <td>2</td>\n",
       "      <td>210 W OF MERIVALE RD @ WEST HUNT CLUB RD</td>\n",
       "      <td>-75.726443</td>\n",
       "      <td>45.333797</td>\n",
       "      <td>Nepean</td>\n",
       "      <td>Ottawa</td>\n",
       "      <td>ON</td>\n",
       "    </tr>\n",
       "    <tr>\n",
       "      <th>2</th>\n",
       "      <td>3</td>\n",
       "      <td>225 E OF RIVERSIDE DR / T &amp; T SC @ HUNT CLUB RD</td>\n",
       "      <td>-75.690638</td>\n",
       "      <td>45.335583</td>\n",
       "      <td>Nepean</td>\n",
       "      <td>Ottawa</td>\n",
       "      <td>ON</td>\n",
       "    </tr>\n",
       "    <tr>\n",
       "      <th>3</th>\n",
       "      <td>4</td>\n",
       "      <td>240 S OF CHARLEMAGNE BLVD/DES EPINETTES AVE @ ...</td>\n",
       "      <td>-75.490558</td>\n",
       "      <td>45.465564</td>\n",
       "      <td>Orleans</td>\n",
       "      <td>Ottawa</td>\n",
       "      <td>ON</td>\n",
       "    </tr>\n",
       "    <tr>\n",
       "      <th>4</th>\n",
       "      <td>5</td>\n",
       "      <td>250 N OF KLONDIKE RD @ MARCH RD</td>\n",
       "      <td>-75.934553</td>\n",
       "      <td>45.356684</td>\n",
       "      <td>Kanata</td>\n",
       "      <td>Ottawa</td>\n",
       "      <td>ON</td>\n",
       "    </tr>\n",
       "  </tbody>\n",
       "</table>\n",
       "</div>"
      ],
      "text/plain": [
       "   LOCATION_KEY                                           LOCATION  LONGITUDE  \\\n",
       "0             1               105 S OF COMMISSIONER ST @ ALBERT ST -75.709554   \n",
       "1             2           210 W OF MERIVALE RD @ WEST HUNT CLUB RD -75.726443   \n",
       "2             3    225 E OF RIVERSIDE DR / T & T SC @ HUNT CLUB RD -75.690638   \n",
       "3             4  240 S OF CHARLEMAGNE BLVD/DES EPINETTES AVE @ ... -75.490558   \n",
       "4             5                    250 N OF KLONDIKE RD @ MARCH RD -75.934553   \n",
       "\n",
       "    LATITUDE           NEIGHBOURHOODS    CITY PROVINCE  \n",
       "0  45.415115  Ottawa West Centre Town  Ottawa       ON  \n",
       "1  45.333797                   Nepean  Ottawa       ON  \n",
       "2  45.335583                   Nepean  Ottawa       ON  \n",
       "3  45.465564                  Orleans  Ottawa       ON  \n",
       "4  45.356684                   Kanata  Ottawa       ON  "
      ]
     },
     "execution_count": 84,
     "metadata": {},
     "output_type": "execute_result"
    }
   ],
   "source": [
    "location_dim.head()"
   ]
  },
  {
   "cell_type": "code",
   "execution_count": 86,
   "metadata": {},
   "outputs": [],
   "source": [
    "location_dim.to_csv('C:/Users/project file/location_dim.csv')"
   ]
  },
  {
   "cell_type": "markdown",
   "metadata": {},
   "source": [
    "## Weather Dimension"
   ]
  },
  {
   "cell_type": "code",
   "execution_count": 87,
   "metadata": {},
   "outputs": [
    {
     "data": {
      "text/plain": [
       "Index(['COLLISION_ID', 'LOCATION', 'LONGITUDE', 'LATITUDE', 'DATE', 'TIME',\n",
       "       'ENVIRONMENT', 'LIGHT', 'SURFACE_CONDITION', 'TRAFFIC_CONTROL',\n",
       "       'COLLISION_CLASSIFICATION', 'IMPACT_TYPE', 'Neighbourhoods',\n",
       "       'Weather_station', 'YEAR', 'MONTH', 'DAY', 'ROUNDED_TIME',\n",
       "       'X.Date.Time', 'Temp...C.', 'Temp.Flag', 'Dew.Point.Temp...C.',\n",
       "       'Dew.Point.Temp.Flag', 'Rel.Hum....', 'Rel.Hum.Flag',\n",
       "       'Wind.Dir..10s.deg.', 'Wind.Dir.Flag', 'Wind.Spd..km.h.',\n",
       "       'Wind.Spd.Flag', 'Visibility..km.', 'Visibility.Flag',\n",
       "       'Stn.Press..kPa.', 'Stn.Press.Flag', 'Hmdx', 'Hmdx.Flag', 'Wind.Chill',\n",
       "       'Wind.Chill.Flag', 'Weather.', 'X.Province.', 'WEATHER_ID'],\n",
       "      dtype='object')"
      ]
     },
     "execution_count": 87,
     "metadata": {},
     "output_type": "execute_result"
    }
   ],
   "source": [
    "master.columns"
   ]
  },
  {
   "cell_type": "code",
   "execution_count": 88,
   "metadata": {},
   "outputs": [
    {
     "name": "stderr",
     "output_type": "stream",
     "text": [
      "C:\\Users\\gongh\\Anaconda3\\lib\\site-packages\\IPython\\core\\interactiveshell.py:3063: DtypeWarning: Columns (6,8,10,12,14,18,23) have mixed types.Specify dtype option on import or set low_memory=False.\n",
      "  interactivity=interactivity, compiler=compiler, result=result)\n"
     ]
    }
   ],
   "source": [
    "weather_dim=pd.read_csv('C:/Users/project file/ottawa_weather.csv')"
   ]
  },
  {
   "cell_type": "code",
   "execution_count": 90,
   "metadata": {},
   "outputs": [
    {
     "data": {
      "text/plain": [
       "Index(['X.Date.Time', 'Year', 'Month', 'Day', 'Time', 'Temp...C.', 'Temp.Flag',\n",
       "       'Dew.Point.Temp...C.', 'Dew.Point.Temp.Flag', 'Rel.Hum....',\n",
       "       'Rel.Hum.Flag', 'Wind.Dir..10s.deg.', 'Wind.Dir.Flag',\n",
       "       'Wind.Spd..km.h.', 'Wind.Spd.Flag', 'Visibility..km.',\n",
       "       'Visibility.Flag', 'Stn.Press..kPa.', 'Stn.Press.Flag', 'Hmdx',\n",
       "       'Hmdx.Flag', 'Wind.Chill', 'Wind.Chill.Flag', 'Weather.',\n",
       "       'X.U.FEFF..Station.Name.', 'X.Province.', 'Weather_ID'],\n",
       "      dtype='object')"
      ]
     },
     "execution_count": 90,
     "metadata": {},
     "output_type": "execute_result"
    }
   ],
   "source": [
    "weather_dim.columns"
   ]
  },
  {
   "cell_type": "code",
   "execution_count": 91,
   "metadata": {},
   "outputs": [],
   "source": [
    "weather_dim = weather_dim[['X.U.FEFF..Station.Name.','Temp...C.','Stn.Press..kPa.','Wind.Dir..10s.deg.',\n",
    "       'Wind.Spd..km.h.','Visibility..km.']].copy()\n",
    "weather_dim = weather_dim.rename(columns={'X.U.FEFF..Station.Name.':'STATION_NAME',\n",
    "                                          'Temp...C.':'TEMPERATURE','Stn.Press..kPa.':'PRESSURE',\n",
    "                                        'Visibility..km.':'VISIBILITY','Wind.Dir..10s.deg':'WIND_DIRECTION',\n",
    "                                        'Wind.Spd..km.h.':'WIND_SPEED'})"
   ]
  },
  {
   "cell_type": "code",
   "execution_count": 92,
   "metadata": {},
   "outputs": [],
   "source": [
    "weather_dim['WEATHER_ID']=np.array([i+1 for i in range(len(weather_dim.index))])"
   ]
  },
  {
   "cell_type": "markdown",
   "metadata": {},
   "source": [
    "## Hour Dimension"
   ]
  },
  {
   "cell_type": "code",
   "execution_count": 94,
   "metadata": {},
   "outputs": [
    {
     "data": {
      "text/plain": [
       "Index(['COLLISION_ID', 'LOCATION', 'LONGITUDE', 'LATITUDE', 'DATE', 'TIME',\n",
       "       'ENVIRONMENT', 'LIGHT', 'SURFACE_CONDITION', 'TRAFFIC_CONTROL',\n",
       "       'COLLISION_CLASSIFICATION', 'IMPACT_TYPE', 'Neighbourhoods',\n",
       "       'Weather_station', 'YEAR', 'MONTH', 'DAY', 'ROUNDED_TIME',\n",
       "       'X.Date.Time', 'Temp...C.', 'Temp.Flag', 'Dew.Point.Temp...C.',\n",
       "       'Dew.Point.Temp.Flag', 'Rel.Hum....', 'Rel.Hum.Flag',\n",
       "       'Wind.Dir..10s.deg.', 'Wind.Dir.Flag', 'Wind.Spd..km.h.',\n",
       "       'Wind.Spd.Flag', 'Visibility..km.', 'Visibility.Flag',\n",
       "       'Stn.Press..kPa.', 'Stn.Press.Flag', 'Hmdx', 'Hmdx.Flag', 'Wind.Chill',\n",
       "       'Wind.Chill.Flag', 'Weather.', 'X.Province.', 'WEATHER_ID'],\n",
       "      dtype='object')"
      ]
     },
     "execution_count": 94,
     "metadata": {},
     "output_type": "execute_result"
    }
   ],
   "source": [
    "master.columns"
   ]
  },
  {
   "cell_type": "code",
   "execution_count": 140,
   "metadata": {},
   "outputs": [],
   "source": [
    "#date\n",
    "holidays_ON = {\n",
    "    '2013-01-01' : 'New Years Day',\n",
    "    '2013-02-17' : 'Family Day',\n",
    "    '2013-04-18' : 'Good Friday',\n",
    "    '2013-04-21' : 'Easter Monday',\n",
    "    '2013-05-19' : 'Victoria Day',\n",
    "    '2013-07-01' : 'Canada Day',\n",
    "    '2013-08-04' : 'Civic Holiday',\n",
    "    '2013-09-01' : 'Labour Day',\n",
    "    '2013-10-13' : 'Thanksgiving',\n",
    "    '2013-12-25' : 'Christmas Day',\n",
    "    '2013-12-26' : 'Boxing Day',\n",
    "    \n",
    "    '2014-01-01' : 'New Years Day',\n",
    "    '2014-02-17' : 'Family Day',\n",
    "    '2014-04-18' : 'Good Friday',\n",
    "    '2014-04-21' : 'Easter Monday',\n",
    "    '2014-05-19' : 'Victoria Day',\n",
    "    '2014-07-01' : 'Canada Day',\n",
    "    '2014-08-04' : 'Civic Holiday',\n",
    "    '2014-09-01' : 'Labour Day',\n",
    "    '2014-10-13' : 'Thanksgiving',\n",
    "    '2014-12-25' : 'Christmas Day',\n",
    "    '2014-12-26' : 'Boxing Day',\n",
    "    \n",
    "    '2015-01-01' : 'New Years Day',\n",
    "    '2015-02-16' : 'Family Day',\n",
    "    '2015-04-03' : 'Good Friday',\n",
    "    '2015-04-06' : 'Easter Monday',\n",
    "    '2015-05-18' : 'Victoria Day',\n",
    "    '2015-07-01' : 'Canada Day',\n",
    "    '2015-08-04' : 'Civic Holiday',\n",
    "    '2015-09-07' : 'Labour Day',\n",
    "    '2015-10-12' : 'Thanksgiving',\n",
    "    '2015-12-25' : 'Christmas Day',\n",
    "    '2015-12-26' : 'Boxing Day',\n",
    "    \n",
    "    \n",
    "    '2016-01-01' : 'New Years Day',\n",
    "    '2016-02-15' : 'Family Day',\n",
    "    '2016-04-25' : 'Good Friday',\n",
    "    '2016-04-28' : 'Easter Monday',\n",
    "    '2016-05-23' : 'Victoria Day',\n",
    "    '2016-07-01' : 'Canada Day',\n",
    "    '2016-08-01' : 'Civic Holiday',\n",
    "    '2016-09-05' : 'Labour Day',\n",
    "    '2016-10-10' : 'Thanksgiving',\n",
    "    '2016-12-25' : 'Christmas Day',\n",
    "    '2016-12-26' : 'Boxing Day',\n",
    "    \n",
    "    '2017-01-01' : 'New Years Day',\n",
    "    '2017-02-20' : 'Family Day',\n",
    "    '2017-04-14' : 'Good Friday',\n",
    "    '2017-04-17' : 'Easter Monday',\n",
    "    '2017-05-22' : 'Victoria Day',\n",
    "    '2017-07-01' : 'Canada Day',\n",
    "    '2017-08-07' : 'Civic Holiday',\n",
    "    '2017-09-04' : 'Labour Day',\n",
    "    '2017-10-09' : 'Thanksgiving',\n",
    "    '2017-12-25' : 'Christmas Day',\n",
    "    '2017-12-26' : 'Boxing Day'\n",
    "}"
   ]
  },
  {
   "cell_type": "code",
   "execution_count": 112,
   "metadata": {},
   "outputs": [
    {
     "name": "stderr",
     "output_type": "stream",
     "text": [
      "C:\\Users\\gongh\\Anaconda3\\lib\\site-packages\\IPython\\core\\interactiveshell.py:3063: DtypeWarning: Columns (6,8,10,12,14,18,23) have mixed types.Specify dtype option on import or set low_memory=False.\n",
      "  interactivity=interactivity, compiler=compiler, result=result)\n"
     ]
    }
   ],
   "source": [
    "hour_dim=pd.read_csv('C:/Users/project file/ottawa_weather.csv')"
   ]
  },
  {
   "cell_type": "code",
   "execution_count": 113,
   "metadata": {},
   "outputs": [
    {
     "data": {
      "text/plain": [
       "Index(['X.Date.Time', 'Year', 'Month', 'Day', 'Time', 'Temp...C.', 'Temp.Flag',\n",
       "       'Dew.Point.Temp...C.', 'Dew.Point.Temp.Flag', 'Rel.Hum....',\n",
       "       'Rel.Hum.Flag', 'Wind.Dir..10s.deg.', 'Wind.Dir.Flag',\n",
       "       'Wind.Spd..km.h.', 'Wind.Spd.Flag', 'Visibility..km.',\n",
       "       'Visibility.Flag', 'Stn.Press..kPa.', 'Stn.Press.Flag', 'Hmdx',\n",
       "       'Hmdx.Flag', 'Wind.Chill', 'Wind.Chill.Flag', 'Weather.',\n",
       "       'X.U.FEFF..Station.Name.', 'X.Province.', 'Weather_ID'],\n",
       "      dtype='object')"
      ]
     },
     "execution_count": 113,
     "metadata": {},
     "output_type": "execute_result"
    }
   ],
   "source": [
    "hour_dim.columns"
   ]
  },
  {
   "cell_type": "code",
   "execution_count": 114,
   "metadata": {},
   "outputs": [],
   "source": [
    "hour_dim = weather[['X.Date.Time','Year','Month','Day','Time','X.U.FEFF..Station.Name.']].copy()"
   ]
  },
  {
   "cell_type": "code",
   "execution_count": 118,
   "metadata": {},
   "outputs": [],
   "source": [
    "hour_dim = hour_dim[hour_dim['X.U.FEFF..Station.Name.']=='OTTAWA']"
   ]
  },
  {
   "cell_type": "code",
   "execution_count": 120,
   "metadata": {},
   "outputs": [
    {
     "data": {
      "text/plain": [
       "43824"
      ]
     },
     "execution_count": 120,
     "metadata": {},
     "output_type": "execute_result"
    }
   ],
   "source": [
    "len(hour_dim['X.Date.Time'].unique())"
   ]
  },
  {
   "cell_type": "code",
   "execution_count": 124,
   "metadata": {},
   "outputs": [],
   "source": [
    "hour_dim = hour_dim.drop(columns=['X.U.FEFF..Station.Name.'])"
   ]
  },
  {
   "cell_type": "code",
   "execution_count": 128,
   "metadata": {},
   "outputs": [
    {
     "data": {
      "text/html": [
       "<div>\n",
       "<style scoped>\n",
       "    .dataframe tbody tr th:only-of-type {\n",
       "        vertical-align: middle;\n",
       "    }\n",
       "\n",
       "    .dataframe tbody tr th {\n",
       "        vertical-align: top;\n",
       "    }\n",
       "\n",
       "    .dataframe thead th {\n",
       "        text-align: right;\n",
       "    }\n",
       "</style>\n",
       "<table border=\"1\" class=\"dataframe\">\n",
       "  <thead>\n",
       "    <tr style=\"text-align: right;\">\n",
       "      <th></th>\n",
       "      <th>X.Date.Time</th>\n",
       "      <th>Year</th>\n",
       "      <th>Month</th>\n",
       "      <th>Day</th>\n",
       "      <th>Time</th>\n",
       "    </tr>\n",
       "  </thead>\n",
       "  <tbody>\n",
       "    <tr>\n",
       "      <th>0</th>\n",
       "      <td>2013-01-01 00:00</td>\n",
       "      <td>2013</td>\n",
       "      <td>1</td>\n",
       "      <td>1</td>\n",
       "      <td>00:00</td>\n",
       "    </tr>\n",
       "    <tr>\n",
       "      <th>1</th>\n",
       "      <td>2013-01-01 01:00</td>\n",
       "      <td>2013</td>\n",
       "      <td>1</td>\n",
       "      <td>1</td>\n",
       "      <td>01:00</td>\n",
       "    </tr>\n",
       "    <tr>\n",
       "      <th>2</th>\n",
       "      <td>2013-01-01 02:00</td>\n",
       "      <td>2013</td>\n",
       "      <td>1</td>\n",
       "      <td>1</td>\n",
       "      <td>02:00</td>\n",
       "    </tr>\n",
       "    <tr>\n",
       "      <th>3</th>\n",
       "      <td>2013-01-01 03:00</td>\n",
       "      <td>2013</td>\n",
       "      <td>1</td>\n",
       "      <td>1</td>\n",
       "      <td>03:00</td>\n",
       "    </tr>\n",
       "    <tr>\n",
       "      <th>4</th>\n",
       "      <td>2013-01-01 04:00</td>\n",
       "      <td>2013</td>\n",
       "      <td>1</td>\n",
       "      <td>1</td>\n",
       "      <td>04:00</td>\n",
       "    </tr>\n",
       "    <tr>\n",
       "      <th>...</th>\n",
       "      <td>...</td>\n",
       "      <td>...</td>\n",
       "      <td>...</td>\n",
       "      <td>...</td>\n",
       "      <td>...</td>\n",
       "    </tr>\n",
       "    <tr>\n",
       "      <th>43819</th>\n",
       "      <td>2017-12-31 19:00</td>\n",
       "      <td>2017</td>\n",
       "      <td>12</td>\n",
       "      <td>31</td>\n",
       "      <td>19:00</td>\n",
       "    </tr>\n",
       "    <tr>\n",
       "      <th>43820</th>\n",
       "      <td>2017-12-31 20:00</td>\n",
       "      <td>2017</td>\n",
       "      <td>12</td>\n",
       "      <td>31</td>\n",
       "      <td>20:00</td>\n",
       "    </tr>\n",
       "    <tr>\n",
       "      <th>43821</th>\n",
       "      <td>2017-12-31 21:00</td>\n",
       "      <td>2017</td>\n",
       "      <td>12</td>\n",
       "      <td>31</td>\n",
       "      <td>21:00</td>\n",
       "    </tr>\n",
       "    <tr>\n",
       "      <th>43822</th>\n",
       "      <td>2017-12-31 22:00</td>\n",
       "      <td>2017</td>\n",
       "      <td>12</td>\n",
       "      <td>31</td>\n",
       "      <td>22:00</td>\n",
       "    </tr>\n",
       "    <tr>\n",
       "      <th>43823</th>\n",
       "      <td>2017-12-31 23:00</td>\n",
       "      <td>2017</td>\n",
       "      <td>12</td>\n",
       "      <td>31</td>\n",
       "      <td>23:00</td>\n",
       "    </tr>\n",
       "  </tbody>\n",
       "</table>\n",
       "<p>43824 rows × 5 columns</p>\n",
       "</div>"
      ],
      "text/plain": [
       "            X.Date.Time  Year  Month  Day   Time\n",
       "0      2013-01-01 00:00  2013      1    1  00:00\n",
       "1      2013-01-01 01:00  2013      1    1  01:00\n",
       "2      2013-01-01 02:00  2013      1    1  02:00\n",
       "3      2013-01-01 03:00  2013      1    1  03:00\n",
       "4      2013-01-01 04:00  2013      1    1  04:00\n",
       "...                 ...   ...    ...  ...    ...\n",
       "43819  2017-12-31 19:00  2017     12   31  19:00\n",
       "43820  2017-12-31 20:00  2017     12   31  20:00\n",
       "43821  2017-12-31 21:00  2017     12   31  21:00\n",
       "43822  2017-12-31 22:00  2017     12   31  22:00\n",
       "43823  2017-12-31 23:00  2017     12   31  23:00\n",
       "\n",
       "[43824 rows x 5 columns]"
      ]
     },
     "execution_count": 128,
     "metadata": {},
     "output_type": "execute_result"
    }
   ],
   "source": [
    "hour_dim.reset_index(drop=True)"
   ]
  },
  {
   "cell_type": "code",
   "execution_count": 131,
   "metadata": {},
   "outputs": [],
   "source": [
    "hour_dim = hour_dim.rename(columns={'X.Date.Time':'DATE'})"
   ]
  },
  {
   "cell_type": "code",
   "execution_count": 132,
   "metadata": {},
   "outputs": [
    {
     "name": "stdout",
     "output_type": "stream",
     "text": [
      "<class 'pandas.core.frame.DataFrame'>\n",
      "Int64Index: 43824 entries, 0 to 1034663\n",
      "Data columns (total 5 columns):\n",
      " #   Column  Non-Null Count  Dtype \n",
      "---  ------  --------------  ----- \n",
      " 0   DATE    43824 non-null  object\n",
      " 1   Year    43824 non-null  int64 \n",
      " 2   Month   43824 non-null  int64 \n",
      " 3   Day     43824 non-null  int64 \n",
      " 4   Time    43824 non-null  object\n",
      "dtypes: int64(3), object(2)\n",
      "memory usage: 2.0+ MB\n"
     ]
    }
   ],
   "source": [
    "hour_dim.info()"
   ]
  },
  {
   "cell_type": "code",
   "execution_count": 134,
   "metadata": {},
   "outputs": [],
   "source": [
    "hour_dim['DATE'] = hour_dim['DATE'].apply(lambda x:str(x)[:10])"
   ]
  },
  {
   "cell_type": "code",
   "execution_count": 135,
   "metadata": {},
   "outputs": [],
   "source": [
    "def is_holiday(x):\n",
    "    if x in holidays_ON.keys():\n",
    "        return 'yes'\n",
    "    else:\n",
    "        return 'no'"
   ]
  },
  {
   "cell_type": "code",
   "execution_count": 141,
   "metadata": {},
   "outputs": [],
   "source": [
    "hour_dim['IS_HOLIDAY'] = hour_dim['DATE'].apply(lambda x:is_holiday(x))"
   ]
  },
  {
   "cell_type": "code",
   "execution_count": 142,
   "metadata": {},
   "outputs": [
    {
     "data": {
      "text/html": [
       "<div>\n",
       "<style scoped>\n",
       "    .dataframe tbody tr th:only-of-type {\n",
       "        vertical-align: middle;\n",
       "    }\n",
       "\n",
       "    .dataframe tbody tr th {\n",
       "        vertical-align: top;\n",
       "    }\n",
       "\n",
       "    .dataframe thead th {\n",
       "        text-align: right;\n",
       "    }\n",
       "</style>\n",
       "<table border=\"1\" class=\"dataframe\">\n",
       "  <thead>\n",
       "    <tr style=\"text-align: right;\">\n",
       "      <th></th>\n",
       "      <th>DATE</th>\n",
       "      <th>Year</th>\n",
       "      <th>Month</th>\n",
       "      <th>Day</th>\n",
       "      <th>Time</th>\n",
       "    </tr>\n",
       "    <tr>\n",
       "      <th>IS_HOLIDAY</th>\n",
       "      <th></th>\n",
       "      <th></th>\n",
       "      <th></th>\n",
       "      <th></th>\n",
       "      <th></th>\n",
       "    </tr>\n",
       "  </thead>\n",
       "  <tbody>\n",
       "    <tr>\n",
       "      <th>no</th>\n",
       "      <td>42504</td>\n",
       "      <td>42504</td>\n",
       "      <td>42504</td>\n",
       "      <td>42504</td>\n",
       "      <td>42504</td>\n",
       "    </tr>\n",
       "    <tr>\n",
       "      <th>yes</th>\n",
       "      <td>1320</td>\n",
       "      <td>1320</td>\n",
       "      <td>1320</td>\n",
       "      <td>1320</td>\n",
       "      <td>1320</td>\n",
       "    </tr>\n",
       "  </tbody>\n",
       "</table>\n",
       "</div>"
      ],
      "text/plain": [
       "             DATE   Year  Month    Day   Time\n",
       "IS_HOLIDAY                                   \n",
       "no          42504  42504  42504  42504  42504\n",
       "yes          1320   1320   1320   1320   1320"
      ]
     },
     "execution_count": 142,
     "metadata": {},
     "output_type": "execute_result"
    }
   ],
   "source": [
    "hour_dim.groupby('IS_HOLIDAY').count()"
   ]
  },
  {
   "cell_type": "code",
   "execution_count": 143,
   "metadata": {},
   "outputs": [],
   "source": [
    "hour_dim['HOLIDAY_NAME']=hour_dim['DATE'].map(holidays_ON)"
   ]
  },
  {
   "cell_type": "code",
   "execution_count": 147,
   "metadata": {},
   "outputs": [],
   "source": [
    "hour_dim = hour_dim.reset_index(drop=True)"
   ]
  },
  {
   "cell_type": "code",
   "execution_count": 148,
   "metadata": {},
   "outputs": [
    {
     "name": "stdout",
     "output_type": "stream",
     "text": [
      "<class 'pandas.core.frame.DataFrame'>\n",
      "RangeIndex: 43824 entries, 0 to 43823\n",
      "Data columns (total 7 columns):\n",
      " #   Column        Non-Null Count  Dtype \n",
      "---  ------        --------------  ----- \n",
      " 0   DATE          43824 non-null  object\n",
      " 1   Year          43824 non-null  int64 \n",
      " 2   Month         43824 non-null  int64 \n",
      " 3   Day           43824 non-null  int64 \n",
      " 4   Time          43824 non-null  object\n",
      " 5   IS_HOLIDAY    43824 non-null  object\n",
      " 6   HOLIDAY_NAME  1320 non-null   object\n",
      "dtypes: int64(3), object(4)\n",
      "memory usage: 2.3+ MB\n"
     ]
    }
   ],
   "source": [
    "hour_dim.info()"
   ]
  },
  {
   "cell_type": "code",
   "execution_count": null,
   "metadata": {},
   "outputs": [],
   "source": []
  }
 ],
 "metadata": {
  "kernelspec": {
   "display_name": "Python 3",
   "language": "python",
   "name": "python3"
  },
  "language_info": {
   "codemirror_mode": {
    "name": "ipython",
    "version": 3
   },
   "file_extension": ".py",
   "mimetype": "text/x-python",
   "name": "python",
   "nbconvert_exporter": "python",
   "pygments_lexer": "ipython3",
   "version": "3.7.1"
  }
 },
 "nbformat": 4,
 "nbformat_minor": 4
}
